{
 "cells": [
  {
   "cell_type": "markdown",
   "metadata": {},
   "source": [
    "## Convert the [City] Building Codes --txt folder to CSV file format\n",
    "This notebook aims converting the txt files in the city directory of building codes to a CSV file with the columns: filename, chapter title, date, and content for easier analysis.\n",
    "\n",
    "<p>The notebook will create a total of two outputs:</p>\n",
    "    <p>(1) a new directory/folder containing txt files combined if published in the same year and belonging to the same chapter</p>\n",
    "    <p>(2) the csv file mentioned previously</p>"
   ]
  },
  {
   "cell_type": "markdown",
   "metadata": {},
   "source": [
    "### Getting started\n",
    "Make sure you have install all libraries before running any 'import\" codes.\n",
    "<li>Set the base directory to the folder path of the city's txt files</li>\n",
    "<li>Set the output directory to the folder path where you want to store the combined txt files</li>\n",
    "<li>Set the output csv path to the folder path where you want to store the outputted csv file...make sure it ends with the name you assign to the file along with the .csv extension</li>"
   ]
  },
  {
   "cell_type": "code",
   "execution_count": null,
   "metadata": {},
   "outputs": [],
   "source": [
    "import os\n",
    "import pandas as pd\n",
    "\n",
    "base_directory = \"/replace_with_your_file_path/Los Angeles Building Codes (2012-2018)--txt\"\n",
    "output_directory = \"/file_output_directory_for_combined_building_codes_by_year\"\n",
    "output_csv_path = \"/output_directory_for_csv/building_code_data.csv\"\n",
    "\n",
    "# Create the output directory if it does not exist\n",
    "os.makedirs(output_directory, exist_ok=True)"
   ]
  },
  {
   "cell_type": "markdown",
   "metadata": {},
   "source": [
    "### Combine the txt files\n",
    "Run the chunk below to output the combined txt files to the output directory."
   ]
  },
  {
   "cell_type": "code",
   "execution_count": null,
   "metadata": {},
   "outputs": [],
   "source": [
    "def combine_txt_files(folder_path, output_directory):\n",
    "    # Get the name of the current folder without the \"_Codes\" part\n",
    "    folder_name = os.path.basename(folder_path)\n",
    "    folder_name = folder_name.split(\"_Codes\")[0]\n",
    "    output_file_path = os.path.join(output_directory, f\"{folder_name}.txt\")\n",
    "\n",
    "    # Create a dictionary to store text content based on the grouping key\n",
    "    text_dict = {}\n",
    "\n",
    "    # Iterate through files in the folder\n",
    "    for root, dirs, files in os.walk(folder_path):\n",
    "        for file in files:\n",
    "            if file.endswith(\".txt\"):\n",
    "                file_path = os.path.join(root, file)\n",
    "\n",
    "                # Extract the grouping key from the file name\n",
    "                if \"-\" in file:\n",
    "                    key = file.split(\"-\")[0]  # Get text before the first dash\n",
    "                    if len(file.split(\"-\")) > 1:  # Check if a second dash exists\n",
    "                        key = file.split(\"-\", 2)[1]  # Get text between the first and second dash\n",
    "                else:\n",
    "                    key = file.split(\".txt\")[0]  # If no dash, use the filename without extension\n",
    "\n",
    "                # Combine text content for each key\n",
    "                with open(file_path, 'r', encoding='utf-8') as input_file:\n",
    "                    content = input_file.read()\n",
    "                    if key in text_dict:\n",
    "                        text_dict[key] += content\n",
    "                    else:\n",
    "                        text_dict[key] = content\n",
    "\n",
    "    # Write combined text content to output files based on the keys\n",
    "    for key, content in text_dict.items():\n",
    "        combined_file_name = f\"{folder_name}_{key}.txt\" if not key.endswith('.txt') else f\"{folder_name}_{key}\"\n",
    "        combined_file_path = os.path.join(output_directory, combined_file_name)\n",
    "        with open(combined_file_path, 'w', encoding='utf-8') as output_file:\n",
    "            output_file.write(content)\n",
    "\n",
    "    print(f\"All the text files from {folder_name} have been combined based on the key.\")\n",
    "\n",
    "# Call the function for each subfolder in the base directory\n",
    "for subfolder in os.listdir(base_directory):\n",
    "    subfolder_path = os.path.join(base_directory, subfolder)\n",
    "    if os.path.isdir(subfolder_path):\n",
    "        combine_txt_files(subfolder_path, output_directory)"
   ]
  },
  {
   "cell_type": "markdown",
   "metadata": {},
   "source": [
    "### Create the CSV file\n",
    "Run the chunk below after the previous in order to create the appropriate csv file save to the output_csv_path."
   ]
  },
  {
   "cell_type": "code",
   "execution_count": null,
   "metadata": {},
   "outputs": [],
   "source": [
    "# Code for generating the CSV from combined files\n",
    "filelocation = output_directory\n",
    "\n",
    "files = [f for f in os.listdir(filelocation) if f.endswith(\".txt\")]\n",
    "\n",
    "filenames = []\n",
    "content = []\n",
    "dates = []\n",
    "chapters = []\n",
    "\n",
    "for file in files:\n",
    "    file_name, _ = os.path.splitext(file)  # Remove the \".txt\" extension\n",
    "    parts = file_name.split(\"_\")\n",
    "    \n",
    "    # Extracting Date and Chapter from the filename parts\n",
    "    date = parts[0] if len(parts) >= 1 else None\n",
    "    chapter = \"_\".join(parts[1:]) if len(parts) > 1 else None\n",
    "    \n",
    "    file_path = os.path.join(filelocation, file)\n",
    "    with open(file_path, 'r', newline='', encoding='utf-8') as source_file:\n",
    "        filenames.append(file_name)\n",
    "        dates.append(date)\n",
    "        chapters.append(chapter)\n",
    "        \n",
    "        lines = source_file.read()\n",
    "        content.append(lines)\n",
    "\n",
    "data = {'Filename': filenames, 'Date': dates, 'Chapter': chapters, 'Content': content}\n",
    "\n",
    "df = pd.DataFrame(data)\n",
    "print(df)\n",
    "\n",
    "df.to_csv(output_csv_path, index=False)"
   ]
  }
 ],
 "metadata": {
  "language_info": {
   "name": "python"
  }
 },
 "nbformat": 4,
 "nbformat_minor": 2
}
